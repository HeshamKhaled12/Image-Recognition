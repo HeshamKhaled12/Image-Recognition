{
  "nbformat": 4,
  "nbformat_minor": 0,
  "metadata": {
    "colab": {
      "provenance": [],
      "gpuType": "T4"
    },
    "kernelspec": {
      "name": "python3",
      "display_name": "Python 3"
    },
    "language_info": {
      "name": "python"
    },
    "accelerator": "GPU"
  },
  "cells": [
    {
      "cell_type": "code",
      "execution_count": null,
      "metadata": {
        "id": "otijtsVXHgy8"
      },
      "outputs": [],
      "source": [
        "!pip install kaggle"
      ]
    },
    {
      "cell_type": "code",
      "source": [
        "!mkdir -p ~/.kaggle\n",
        "!mv kaggle.json ~/.kaggle/\n",
        "!chmod 600 ~/.kaggle/kaggle.json"
      ],
      "metadata": {
        "id": "NSlmK-t16iZO",
        "colab": {
          "base_uri": "https://localhost:8080/"
        },
        "outputId": "b986be06-9e88-4e9e-fb5c-7698bf75b3d9"
      },
      "execution_count": null,
      "outputs": [
        {
          "output_type": "stream",
          "name": "stdout",
          "text": [
            "mv: cannot stat 'kaggle.json': No such file or directory\n",
            "chmod: cannot access '/root/.kaggle/kaggle.json': No such file or directory\n"
          ]
        }
      ]
    },
    {
      "cell_type": "code",
      "source": [
        "!kaggle datasets download -d kritikseth/fruit-and-vegetable-image-recognition"
      ],
      "metadata": {
        "colab": {
          "base_uri": "https://localhost:8080/"
        },
        "id": "dKZuOZHB68J7",
        "outputId": "17996acc-2dda-45f7-eb2d-78552ba25d10"
      },
      "execution_count": null,
      "outputs": [
        {
          "output_type": "stream",
          "name": "stdout",
          "text": [
            "Dataset URL: https://www.kaggle.com/datasets/kritikseth/fruit-and-vegetable-image-recognition\n",
            "License(s): CC0-1.0\n",
            "Downloading fruit-and-vegetable-image-recognition.zip to /content\n",
            "100% 1.98G/1.98G [00:29<00:00, 115MB/s]\n",
            "100% 1.98G/1.98G [00:29<00:00, 72.4MB/s]\n"
          ]
        }
      ]
    },
    {
      "cell_type": "code",
      "source": [
        "!unzip fruit-and-vegetable-image-recognition.zip"
      ],
      "metadata": {
        "id": "xweAAaHd7Eyc"
      },
      "execution_count": null,
      "outputs": []
    },
    {
      "cell_type": "code",
      "source": [
        "train_dir='/content/train'\n",
        "test_dir='/content/test'\n",
        "val_dir='/content/validation'"
      ],
      "metadata": {
        "id": "nFZf7xHw8A1T"
      },
      "execution_count": null,
      "outputs": []
    },
    {
      "cell_type": "code",
      "source": [
        "import torch\n",
        "import torchvision\n",
        "import torch.nn as nn\n",
        "import torch.optim as optim\n",
        "import matplotlib.pyplot as plt\n",
        "from tqdm import tqdm\n",
        "from sklearn.metrics import accuracy_score\n",
        "from PIL import Image\n",
        "import numpy as np"
      ],
      "metadata": {
        "id": "3wQnggaN9B46"
      },
      "execution_count": null,
      "outputs": []
    },
    {
      "cell_type": "code",
      "source": [
        "BATCH_SIZE=64\n",
        "EPOCHS=20"
      ],
      "metadata": {
        "id": "pl8cA2pzLb42"
      },
      "execution_count": null,
      "outputs": []
    },
    {
      "cell_type": "code",
      "source": [
        "train_transform=torchvision.transforms.Compose([\n",
        "    torchvision.transforms.Resize((227,227)),\n",
        "    torchvision.transforms.RandomCrop((227,227)),\n",
        "    torchvision.transforms.ToTensor(),\n",
        "    torchvision.transforms.Normalize([0.5,0.5,0.5],[0.5,0.5,0.5])\n",
        "])\n",
        "\n",
        "test_transform=torchvision.transforms.Compose([\n",
        "    torchvision.transforms.Resize((227,227)),\n",
        "    torchvision.transforms.CenterCrop((227,227)),\n",
        "    torchvision.transforms.ToTensor(),\n",
        "    torchvision.transforms.Normalize([0.5,0.5,0.5],[0.5,0.5,0.5])\n",
        "])\n"
      ],
      "metadata": {
        "id": "861b6XpPIhIU"
      },
      "execution_count": null,
      "outputs": []
    },
    {
      "cell_type": "code",
      "source": [
        "train_dataset=torchvision.datasets.ImageFolder(train_dir,transform=train_transform)\n",
        "test_dataset=torchvision.datasets.ImageFolder(test_dir,transform=test_transform)\n",
        "val_dataset=torchvision.datasets.ImageFolder(val_dir,transform=test_transform)"
      ],
      "metadata": {
        "id": "81vsjsiMLDYg"
      },
      "execution_count": null,
      "outputs": []
    },
    {
      "cell_type": "code",
      "source": [
        "train_loader=torch.utils.data.DataLoader(train_dataset,batch_size=BATCH_SIZE,shuffle=True)\n",
        "test_loader=torch.utils.data.DataLoader(test_dataset,batch_size=BATCH_SIZE,shuffle=False)\n",
        "val_loader=torch.utils.data.DataLoader(val_dataset,batch_size=BATCH_SIZE,shuffle=False)"
      ],
      "metadata": {
        "id": "3EznpacoMF6-"
      },
      "execution_count": null,
      "outputs": []
    },
    {
      "cell_type": "code",
      "source": [
        "for image,label in train_loader:\n",
        "  print(image.shape)\n",
        "  print(label)\n",
        "  break"
      ],
      "metadata": {
        "id": "1iiebNTSa-_w"
      },
      "execution_count": null,
      "outputs": []
    },
    {
      "cell_type": "code",
      "source": [
        "class Alexnet(torch.nn.Module):\n",
        "  def __init__(self,num_classes):\n",
        "    super().__init__()\n",
        "    self.features=nn.Sequential(\n",
        "    nn.Conv2d(3,96,kernel_size=11,stride=4,padding=2,bias=False),\n",
        "    nn.ReLU(inplace=True),\n",
        "    nn.MaxPool2d(kernel_size=3,stride=2,padding=0),\n",
        "    nn.Conv2d(96,192,kernel_size=5 ,stride=1,padding=2,bias=False),\n",
        "    nn.ReLU(inplace=True),\n",
        "    nn.MaxPool2d(kernel_size=3,stride=2,padding=0),\n",
        "    nn.Conv2d(192,384,kernel_size=3,stride=1,padding=1,bias=False),\n",
        "    nn.ReLU(inplace=True),\n",
        "    nn.Conv2d(384,256,kernel_size=3,stride=1,padding=1,bias=False),\n",
        "    nn.ReLU(inplace=True),\n",
        "    nn.Conv2d(256,256,kernel_size=3,stride=1,padding=1,bias=False),\n",
        "    nn.ReLU(inplace=True),\n",
        "    nn.MaxPool2d(kernel_size=3,stride=2,padding=0))\n",
        "\n",
        "    self.classifier=nn.Sequential(\n",
        "    nn.Dropout(p=0.5),\n",
        "    nn.Linear(256 * 6 * 6, 4096),\n",
        "    nn.ReLU(inplace=True),\n",
        "    nn.Dropout(p=0.5),\n",
        "    nn.Linear(4096,4096),\n",
        "    nn.ReLU(inplace=True),\n",
        "    nn.Linear(4096,num_classes)\n",
        "    )\n",
        "\n",
        "  def forward(self,x):\n",
        "    x=self.features(x)\n",
        "    x=x.view(x.size(0),256*6*6)\n",
        "    x=self.classifier(x)\n",
        "    return x"
      ],
      "metadata": {
        "id": "EBV_K7dfNRrM"
      },
      "execution_count": null,
      "outputs": []
    },
    {
      "cell_type": "code",
      "source": [
        "\n",
        "\n",
        "\n",
        "model.to(device)\n"
      ],
      "metadata": {
        "id": "62-EQLRjPfXh"
      },
      "execution_count": null,
      "outputs": []
    },
    {
      "cell_type": "code",
      "source": [
        "\n",
        "device=torch.device('cuda' if torch.cuda.is_available() else 'cpu')\n",
        "model=Alexnet(36).to(device)\n",
        "\n",
        "optimizer=optim.Adam(model.parameters(),lr=0.001)\n",
        "\n",
        "criterion=nn.CrossEntropyLoss()\n",
        "\n",
        "def accuracy(outputs,labels):\n",
        "  _,predicted= torch.max(outputs,1)\n",
        "  correct= (predicted == labels).sum().item()\n",
        "  total= labels.size(0)\n",
        "\n",
        "  return correct/total\n",
        "\n",
        "def compute_accuracy(model,data_loader):\n",
        "  model.eval()\n",
        "  correct=0\n",
        "  total=0\n",
        "  with torch.no_grad():\n",
        "    for inputs,labels in data_loader:\n",
        "      inputs, labels = inputs.to(device), labels.to(device)\n",
        "      outputs=model(inputs)\n",
        "      _,predicted= torch.max(outputs,1)\n",
        "      total+= labels.size(0)\n",
        "      correct += (predicted==labels).sum().item()\n",
        "  return correct/total\n",
        "\n",
        "def train (model,train_loader,optimizer,criterion):\n",
        "  model.train()\n",
        "  running_loss=0.0\n",
        "  for inputs,labels in train_loader:\n",
        "    inputs, labels = inputs.to(device), labels.to(device)\n",
        "    optimizer.zero_grad()\n",
        "    outputs=model(inputs)\n",
        "    loss=criterion(outputs,labels)\n",
        "    loss.backward()\n",
        "    optimizer.step()\n",
        "    running_loss += loss.item() * inputs.size(0)\n",
        "  return running_loss/len(train_loader.dataset)\n",
        "\n",
        "def validate (model,val_loader,criterion):\n",
        "  model.eval()\n",
        "  running_loss=0.0\n",
        "  with torch.no_grad():\n",
        "    for inputs,labels in val_loader:\n",
        "      inputs, labels = inputs.to(device), labels.to(device)\n",
        "      outputs=model(inputs)\n",
        "      loss=criterion(outputs,labels)\n",
        "      running_loss += loss.item() * inputs.size(0)\n",
        "  return running_loss/len(val_loader.dataset)\n",
        "\n"
      ],
      "metadata": {
        "id": "oSWvv6j7R6hR"
      },
      "execution_count": null,
      "outputs": []
    },
    {
      "cell_type": "code",
      "source": [
        "train_losses=[]\n",
        "val_losses=[]\n",
        "\n",
        "\n",
        "\n",
        "for epoch in range(EPOCHS):\n",
        "  train_loss=train(model,train_loader,optimizer,criterion)\n",
        "  val_loss=validate(model,val_loader,criterion)\n",
        "  train_accuarcy=compute_accuracy(model,train_loader)\n",
        "  val_accuracy=compute_accuracy(model,val_loader)\n",
        "\n",
        "  train_losses.append(train_loss)\n",
        "  val_losses.append(val_loss)\n",
        "\n",
        "  tqdm.write(f'Epoch{epoch+1}/{EPOCHS},'\n",
        "             f'Train loss {train_loss:.4f},'\n",
        "             f'Val loss {val_loss:.4f},'\n",
        "             f'Train accuracy{train_accuarcy:.4f},'\n",
        "             f'Val accuracy{val_accuracy:.4f}')\n",
        "\n",
        "\n",
        "plt.plot(train_losses,label='Train loss')\n",
        "plt.plot(val_losses,label='val_loss')\n",
        "plt.xlabel('Epochs')\n",
        "plt.ylabel('loss')\n",
        "plt.title('Train and validation losses')\n",
        "plt.legend()\n",
        "plt.show()"
      ],
      "metadata": {
        "colab": {
          "base_uri": "https://localhost:8080/",
          "height": 874
        },
        "id": "2wRs5dS2G-w9",
        "outputId": "4b6c3c81-16e1-4ad2-d7b0-df3535e8629f"
      },
      "execution_count": null,
      "outputs": [
        {
          "metadata": {
            "tags": null
          },
          "name": "stderr",
          "output_type": "stream",
          "text": [
            "/usr/local/lib/python3.10/dist-packages/PIL/Image.py:996: UserWarning: Palette images with Transparency expressed in bytes should be converted to RGBA images\n",
            "  warnings.warn(\n"
          ]
        },
        {
          "output_type": "stream",
          "name": "stdout",
          "text": [
            "Epoch1/20,Train loss 3.6203,Val loss 3.5058,Train accuracy0.0404,Val accuracy0.0399\n",
            "Epoch2/20,Train loss 3.4061,Val loss 3.2648,Train accuracy0.0536,Val accuracy0.0541\n",
            "Epoch3/20,Train loss 3.2209,Val loss 2.9367,Train accuracy0.1053,Val accuracy0.1368\n",
            "Epoch4/20,Train loss 3.0107,Val loss 2.7641,Train accuracy0.1374,Val accuracy0.1624\n",
            "Epoch5/20,Train loss 2.8352,Val loss 2.5581,Train accuracy0.1634,Val accuracy0.1966\n",
            "Epoch6/20,Train loss 2.7494,Val loss 2.4124,Train accuracy0.2032,Val accuracy0.2764\n",
            "Epoch7/20,Train loss 2.6003,Val loss 2.2193,Train accuracy0.2549,Val accuracy0.3390\n",
            "Epoch8/20,Train loss 2.4574,Val loss 1.9895,Train accuracy0.3114,Val accuracy0.3903\n",
            "Epoch9/20,Train loss 2.3291,Val loss 1.7336,Train accuracy0.3692,Val accuracy0.4530\n",
            "Epoch10/20,Train loss 2.1876,Val loss 1.5152,Train accuracy0.4083,Val accuracy0.5442\n",
            "Epoch11/20,Train loss 2.0301,Val loss 1.3594,Train accuracy0.4767,Val accuracy0.5812\n",
            "Epoch12/20,Train loss 1.9134,Val loss 1.1975,Train accuracy0.5204,Val accuracy0.6268\n",
            "Epoch13/20,Train loss 1.7228,Val loss 1.1219,Train accuracy0.5650,Val accuracy0.7009\n",
            "Epoch14/20,Train loss 1.6108,Val loss 1.0087,Train accuracy0.6029,Val accuracy0.7208\n",
            "Epoch15/20,Train loss 1.4571,Val loss 0.7740,Train accuracy0.6889,Val accuracy0.7806\n",
            "Epoch16/20,Train loss 1.3041,Val loss 0.6846,Train accuracy0.7377,Val accuracy0.8405\n",
            "Epoch17/20,Train loss 1.2196,Val loss 0.6228,Train accuracy0.7653,Val accuracy0.8462\n",
            "Epoch18/20,Train loss 1.0879,Val loss 0.5018,Train accuracy0.8247,Val accuracy0.8860\n",
            "Epoch19/20,Train loss 0.9365,Val loss 0.5364,Train accuracy0.8485,Val accuracy0.8775\n",
            "Epoch20/20,Train loss 0.8405,Val loss 0.5304,Train accuracy0.8228,Val accuracy0.8832\n"
          ]
        },
        {
          "output_type": "display_data",
          "data": {
            "text/plain": [
              "<Figure size 640x480 with 1 Axes>"
            ],
            "image/png": "[encoded data removed]"
          },
          "metadata": {}
        }
      ]
    },
    {
      "cell_type": "code",
      "source": [
        "\n",
        "def predict(model, test_loader):\n",
        "    model.eval()\n",
        "    predictions = []\n",
        "    with torch.no_grad():\n",
        "        for inputs, _ in test_loader:\n",
        "            inputs = inputs.to(device)\n",
        "            outputs = model(inputs)\n",
        "            _, predicted = torch.max(outputs, 1)\n",
        "            predictions.extend(predicted.cpu().numpy())\n",
        "    return predictions\n"
      ],
      "metadata": {
        "id": "4GslxvYYZN3S"
      },
      "execution_count": null,
      "outputs": []
    },
    {
      "cell_type": "code",
      "source": [
        "test_predictions=predict(model,test_loader)\n",
        "acc=accuracy_score(test_dataset.targets,test_predictions)\n",
        "print(acc)"
      ],
      "metadata": {
        "id": "zuFcGq9Wl2Kd",
        "colab": {
          "base_uri": "https://localhost:8080/"
        },
        "outputId": "2dd0df61-768e-4dc4-9b89-0a4220b06f87"
      },
      "execution_count": null,
      "outputs": [
        {
          "output_type": "stream",
          "name": "stdout",
          "text": [
            "0.883008356545961\n"
          ]
        }
      ]
    },
    {
      "cell_type": "code",
      "source": [
        "class_label_map = train_dataset.class_to_idx\n",
        "\n",
        "for class_name, label in class_label_map.items():\n",
        "    print(f\"Class: {class_name}, and its label: {label}\")\n"
      ],
      "metadata": {
        "colab": {
          "base_uri": "https://localhost:8080/"
        },
        "id": "oM3Hj6a2sqK8",
        "outputId": "c63478b8-e304-41d7-bda4-9e95efeb9ff7"
      },
      "execution_count": null,
      "outputs": [
        {
          "output_type": "stream",
          "name": "stdout",
          "text": [
            "Class: apple, and its label: 0\n",
            "Class: banana, and its label: 1\n",
            "Class: beetroot, and its label: 2\n",
            "Class: bell pepper, and its label: 3\n",
            "Class: cabbage, and its label: 4\n",
            "Class: capsicum, and its label: 5\n",
            "Class: carrot, and its label: 6\n",
            "Class: cauliflower, and its label: 7\n",
            "Class: chilli pepper, and its label: 8\n",
            "Class: corn, and its label: 9\n",
            "Class: cucumber, and its label: 10\n",
            "Class: eggplant, and its label: 11\n",
            "Class: garlic, and its label: 12\n",
            "Class: ginger, and its label: 13\n",
            "Class: grapes, and its label: 14\n",
            "Class: jalepeno, and its label: 15\n",
            "Class: kiwi, and its label: 16\n",
            "Class: lemon, and its label: 17\n",
            "Class: lettuce, and its label: 18\n",
            "Class: mango, and its label: 19\n",
            "Class: onion, and its label: 20\n",
            "Class: orange, and its label: 21\n",
            "Class: paprika, and its label: 22\n",
            "Class: pear, and its label: 23\n",
            "Class: peas, and its label: 24\n",
            "Class: pineapple, and its label: 25\n",
            "Class: pomegranate, and its label: 26\n",
            "Class: potato, and its label: 27\n",
            "Class: raddish, and its label: 28\n",
            "Class: soy beans, and its label: 29\n",
            "Class: spinach, and its label: 30\n",
            "Class: sweetcorn, and its label: 31\n",
            "Class: sweetpotato, and its label: 32\n",
            "Class: tomato, and its label: 33\n",
            "Class: turnip, and its label: 34\n",
            "Class: watermelon, and its label: 35\n"
          ]
        }
      ]
    },
    {
      "cell_type": "code",
      "source": [
        "testing_dir='/content/test/beetroot/Image_6.jpg'\n",
        "\n",
        "testing_photo=Image.open(testing_dir)\n",
        "\n",
        "transfrom=torchvision.transforms.Compose([\n",
        "    torchvision.transforms.Resize((227,227)),\n",
        "    torchvision.transforms.ToTensor(),\n",
        "    torchvision.transforms.Normalize(mean=[0.485, 0.456, 0.406], std=[0.229, 0.224, 0.225])\n",
        "])\n",
        "\n",
        "input_tensor=transfrom(testing_photo).unsqueeze(0)\n",
        "\n",
        "input_tensor=input_tensor.to(device)\n",
        "\n",
        "model.eval()\n",
        "\n",
        "with torch.no_grad():\n",
        "  outputs=model(input_tensor)\n",
        "\n",
        "_, predicted=torch.max(outputs,1)\n",
        "\n",
        "predicted_class_name = list(class_label_map.keys())[list(class_label_map.values()).index(predicted.item())]\n",
        "\n",
        "print(f\"The predicted class label for the photo is: {predicted_class_name}\")\n",
        "\n"
      ],
      "metadata": {
        "colab": {
          "base_uri": "https://localhost:8080/"
        },
        "id": "uBSGR8jWnHRV",
        "outputId": "c0ea5d33-b65a-425d-f5c8-9580752116c0"
      },
      "execution_count": null,
      "outputs": [
        {
          "output_type": "stream",
          "name": "stdout",
          "text": [
            "The predicted class label for the photo is: beetroot\n"
          ]
        }
      ]
    },
    {
      "cell_type": "code",
      "source": [],
      "metadata": {
        "id": "tln010P2Zzw-"
      },
      "execution_count": null,
      "outputs": []
    }
  ]
}